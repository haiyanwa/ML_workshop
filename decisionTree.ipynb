{
 "cells": [
  {
   "cell_type": "code",
   "execution_count": null,
   "metadata": {
    "id": "1I3KfR5E-GHs"
   },
   "outputs": [],
   "source": [
    "import pandas as pd\n",
    "from sklearn.tree import DecisionTreeClassifier, export_graphviz\n",
    "from sklearn.model_selection import train_test_split\n",
    "from sklearn.metrics import accuracy_score\n",
    "from sklearn.model_selection import cross_val_score"
   ]
  },
  {
   "cell_type": "code",
   "execution_count": null,
   "metadata": {
    "colab": {
     "base_uri": "https://localhost:8080/"
    },
    "id": "F6_GBy2YG6vs",
    "outputId": "50967ea4-9746-4f02-bfb5-d47204ae4975"
   },
   "outputs": [],
   "source": [
    "!pwd       ##run shell command pwd"
   ]
  },
  {
   "cell_type": "code",
   "execution_count": null,
   "metadata": {
    "id": "dueTBpa4GRsZ"
   },
   "outputs": [],
   "source": [
    "!wget https://archive.ics.uci.edu/ml/machine-learning-databases/iris/iris.data\n",
    "!mv iris.data iris.csv"
   ]
  },
  {
   "cell_type": "code",
   "execution_count": null,
   "metadata": {},
   "outputs": [],
   "source": [
    "!ls"
   ]
  },
  {
   "cell_type": "code",
   "execution_count": null,
   "metadata": {
    "id": "YQn-coAlMnsI"
   },
   "outputs": [],
   "source": [
    "##add columns to the dataframe\n",
    "columns = ['sepalLengthCm','seppalWidthCm','petalLengthCm','petalWidthCm','species']\n",
    "df = pd.read_csv(\"./iris.csv\", names = columns)"
   ]
  },
  {
   "cell_type": "code",
   "execution_count": null,
   "metadata": {
    "colab": {
     "base_uri": "https://localhost:8080/",
     "height": 424
    },
    "id": "6_VFKS4IHfIB",
    "outputId": "8ee4b1b3-018b-447b-ec7e-b9b81b0c404e"
   },
   "outputs": [],
   "source": [
    "df"
   ]
  },
  {
   "cell_type": "code",
   "execution_count": null,
   "metadata": {
    "colab": {
     "base_uri": "https://localhost:8080/",
     "height": 206
    },
    "id": "nsmv_1FdH2i0",
    "outputId": "45b2eb1e-0b68-43b1-daaa-e193356e6d87"
   },
   "outputs": [],
   "source": [
    "iris_X = df[['sepalLengthCm','seppalWidthCm','petalLengthCm','petalWidthCm']]\n",
    "iris_X.head()"
   ]
  },
  {
   "cell_type": "code",
   "execution_count": null,
   "metadata": {
    "colab": {
     "base_uri": "https://localhost:8080/",
     "height": 206
    },
    "id": "EMbS0a7aR4OD",
    "outputId": "ec124730-ed7d-4f39-9d17-4c53dc9aba62"
   },
   "outputs": [],
   "source": [
    "iris_y = df[['species']]\n",
    "iris_y.head()"
   ]
  },
  {
   "cell_type": "code",
   "execution_count": null,
   "metadata": {
    "id": "qDxAAZJN01OF"
   },
   "outputs": [],
   "source": [
    "X_train, X_test, y_train, y_test = train_test_split(iris_X, iris_y, test_size=0.2, random_state=36)\n"
   ]
  },
  {
   "cell_type": "code",
   "execution_count": null,
   "metadata": {
    "colab": {
     "base_uri": "https://localhost:8080/"
    },
    "id": "M-961K942HVy",
    "outputId": "c4e7bab9-ea1a-48b6-968e-38c0e1111497"
   },
   "outputs": [],
   "source": [
    "print(\"X_train\", len(X_train))\n",
    "print(\"y_train\", len(y_train))\n",
    "\n",
    "print(\"X_test\", len(X_test))\n",
    "print(\"y_test\", len(y_test))"
   ]
  },
  {
   "cell_type": "code",
   "execution_count": null,
   "metadata": {
    "colab": {
     "base_uri": "https://localhost:8080/"
    },
    "id": "6fBGlrPASCoS",
    "outputId": "5456646b-6552-4741-e0b7-37eebd47c530"
   },
   "outputs": [],
   "source": [
    "DTree_clf = DecisionTreeClassifier(random_state=36, max_depth=2)\n",
    "DTree_clf.fit(X_train, y_train)"
   ]
  },
  {
   "cell_type": "code",
   "execution_count": null,
   "metadata": {
    "id": "Ba6FIynZ4bQs"
   },
   "outputs": [],
   "source": [
    "y_predict = DTree_clf.predict(X_test)"
   ]
  },
  {
   "cell_type": "code",
   "execution_count": null,
   "metadata": {
    "colab": {
     "base_uri": "https://localhost:8080/",
     "height": 1000
    },
    "id": "ZvlRjb65frxG",
    "outputId": "f9e5e679-f039-4f25-a58a-a6e5071efd4e"
   },
   "outputs": [],
   "source": [
    "y_test[0:5]"
   ]
  },
  {
   "cell_type": "code",
   "execution_count": null,
   "metadata": {
    "colab": {
     "base_uri": "https://localhost:8080/"
    },
    "id": "uHti-aV8fij-",
    "outputId": "d1f634dd-c349-4299-dc47-08e1b6ef6391"
   },
   "outputs": [],
   "source": [
    "y_predict[0:5]"
   ]
  },
  {
   "cell_type": "code",
   "execution_count": null,
   "metadata": {
    "colab": {
     "base_uri": "https://localhost:8080/"
    },
    "id": "-LeT5hJSIN6z",
    "outputId": "01148e1e-6a6d-4978-c4ce-e854c3248b75"
   },
   "outputs": [],
   "source": [
    "accuracy_score(y_test, y_predict)"
   ]
  },
  {
   "cell_type": "code",
   "execution_count": null,
   "metadata": {},
   "outputs": [],
   "source": [
    "!pip install graphviz"
   ]
  },
  {
   "cell_type": "code",
   "execution_count": null,
   "metadata": {
    "id": "VZn9Z-wpTnxB"
   },
   "outputs": [],
   "source": [
    "from sklearn.tree import export_graphviz\n",
    "from sklearn import tree\n",
    "from IPython.display import SVG\n",
    "from graphviz import Source\n",
    "from IPython.display import display"
   ]
  },
  {
   "cell_type": "code",
   "execution_count": null,
   "metadata": {
    "colab": {
     "base_uri": "https://localhost:8080/",
     "height": 335
    },
    "id": "w5pi29ueSOha",
    "outputId": "88aa1ede-1b21-413c-e0f7-63546460385c"
   },
   "outputs": [],
   "source": [
    "tree.plot_tree(DTree_clf)"
   ]
  },
  {
   "cell_type": "code",
   "execution_count": null,
   "metadata": {
    "colab": {
     "base_uri": "https://localhost:8080/"
    },
    "id": "vSLyzQ78sQ6o",
    "outputId": "f732ee94-d5ef-478f-dced-58a2d7a530fe"
   },
   "outputs": [],
   "source": [
    "#graph = Source(tree.export_graphviz(clf))\n",
    "names = iris_X.columns\n",
    "print(names)\n",
    "graph = Source(tree.export_graphviz(DTree_clf ,feature_names = names, class_names = iris_y['species'].unique(), max_depth = 2, filled = True))"
   ]
  },
  {
   "cell_type": "code",
   "execution_count": null,
   "metadata": {
    "colab": {
     "base_uri": "https://localhost:8080/",
     "height": 440
    },
    "id": "7IBGiuZjsocf",
    "outputId": "5bf3e357-dea9-4acd-c5a6-533791a82834"
   },
   "outputs": [],
   "source": [
    "display(SVG(graph.pipe(format='svg')))\n"
   ]
  },
  {
   "cell_type": "code",
   "execution_count": null,
   "metadata": {},
   "outputs": [],
   "source": [
    "!wget https://github.com/haiyanwa/ML_workshop/blob/main/Heart.csv\n",
    "!ls"
   ]
  },
  {
   "cell_type": "code",
   "execution_count": null,
   "metadata": {},
   "outputs": [],
   "source": [
    "df_heart = pd.read_csv('/u/home/h/hwang/workshop/ML_workshop/Heart.csv')\n",
    "df_heart.head()"
   ]
  },
  {
   "cell_type": "markdown",
   "metadata": {},
   "source": [
    "Thal: Thallium stress test\n",
    "\n",
    "AHD: Yes indicates the presence of heart disease based on an angiographic test"
   ]
  },
  {
   "cell_type": "code",
   "execution_count": null,
   "metadata": {
    "colab": {
     "base_uri": "https://localhost:8080/"
    },
    "id": "kQPcsjMqrBBg",
    "outputId": "eab429d9-981f-4807-fae8-2dc002a40e38"
   },
   "outputs": [],
   "source": [
    "df_heart.shape"
   ]
  },
  {
   "cell_type": "code",
   "execution_count": null,
   "metadata": {
    "colab": {
     "base_uri": "https://localhost:8080/"
    },
    "id": "VJr4siNEpa0b",
    "outputId": "5d9a7f91-84f7-4118-d031-0f0cfb24f175"
   },
   "outputs": [],
   "source": [
    "##check if there's any null data\n",
    "df_heart.isna().any()"
   ]
  },
  {
   "cell_type": "code",
   "execution_count": null,
   "metadata": {
    "colab": {
     "base_uri": "https://localhost:8080/"
    },
    "id": "9r_kxj5ap22K",
    "outputId": "e7dc068c-fae4-4ad9-aada-1f0cae9c651c"
   },
   "outputs": [],
   "source": [
    "print(df_heart.Thal.isnull().sum())\n",
    "print(df_heart.Ca.isnull().sum())"
   ]
  },
  {
   "cell_type": "code",
   "execution_count": null,
   "metadata": {
    "id": "uPpEj2pr1cOI"
   },
   "outputs": [],
   "source": [
    "##drop rows with NaN value\n",
    "df_heart.dropna(axis=0, subset=['Ca'],inplace=True)"
   ]
  },
  {
   "cell_type": "code",
   "execution_count": null,
   "metadata": {
    "colab": {
     "base_uri": "https://localhost:8080/"
    },
    "id": "TSSlYbBR1rgw",
    "outputId": "03513c40-d991-4ad3-c122-b5526bc75aa3"
   },
   "outputs": [],
   "source": [
    "df_heart.shape\n",
    "#df_heart[df_heart.Thal.isnull()].index.tolist()"
   ]
  },
  {
   "cell_type": "code",
   "execution_count": null,
   "metadata": {
    "colab": {
     "base_uri": "https://localhost:8080/"
    },
    "id": "5NYJiGIxqcGy",
    "outputId": "a5d65470-4239-4509-ae6f-63383100b3a8"
   },
   "outputs": [],
   "source": [
    "df_heart.Ca.unique()"
   ]
  },
  {
   "cell_type": "code",
   "execution_count": null,
   "metadata": {
    "colab": {
     "base_uri": "https://localhost:8080/"
    },
    "id": "9vOiKKOel_DE",
    "outputId": "7660eda1-1612-495d-e801-7f65fb107115"
   },
   "outputs": [],
   "source": [
    "##create target y with AHD column\n",
    "heart_y = df_heart['AHD']\n",
    "heart_y"
   ]
  },
  {
   "cell_type": "code",
   "execution_count": null,
   "metadata": {
    "colab": {
     "base_uri": "https://localhost:8080/",
     "height": 424
    },
    "id": "LTTloIAUcWZB",
    "outputId": "b7989a42-2ac6-4e97-ec16-c4d5618cf5a7"
   },
   "outputs": [],
   "source": [
    "##remove ID and target from X\n",
    "heart_X = df_heart.drop(columns=['Unnamed: 0', 'AHD'])\n",
    "heart_X"
   ]
  },
  {
   "cell_type": "markdown",
   "metadata": {},
   "source": [
    "## Change categorical to numerical\n",
    "\n",
    "\n",
    "|index|value|\n",
    "| :-  | :-: |\n",
    "|0 | Yes|\n",
    "|1 |No|\n",
    "|2 |No|\n",
    "|3 |No|\n",
    "|4 |Yes|\n",
    "|5 |No|\n",
    "|6 |Yes|\n",
    "|7 |Yes|\n",
    "\n",
    "\n",
    "\n",
    "Method 1 <br>\n",
    "Ordinal <br>\n",
    "\n",
    "|index|value|\n",
    "| :-  | :-: |\n",
    "|0 | 1|\n",
    "|1 |0|\n",
    "|2 |0|\n",
    "|3 |0|\n",
    "|4 |1|\n",
    "|5 |0|\n",
    "|6 |1|\n",
    "|7 |1|\n",
    "\n",
    "Method 2<br>\n",
    "OneHotEncoding<br>\n",
    "Change 1 column into 2 columns<br>  \n",
    "\n",
    "|index|Yes|No|\n",
    "| :-  | :-: | :-: |\n",
    "|0 | 1|0|\n",
    "|1 |0|1|\n",
    "|2 |0|1|\n",
    "|3 |0|1|\n",
    "|4 |1|0|\n",
    "|5 |0|1|\n",
    "|6 |1|0|\n",
    "|7 |1|0|"
   ]
  },
  {
   "cell_type": "code",
   "execution_count": null,
   "metadata": {},
   "outputs": [],
   "source": [
    "##For categorical data, we use get_dummies to transfer them to HotEncoding\n",
    "X_trans = pd.get_dummies(heart_X, ['ChestPain', 'Thal'])\n",
    "X_trans"
   ]
  },
  {
   "cell_type": "code",
   "execution_count": null,
   "metadata": {
    "colab": {
     "base_uri": "https://localhost:8080/"
    },
    "id": "I4iaIHT2tUd1",
    "outputId": "2dd46c54-4221-4ba6-90c7-e274caef8cef"
   },
   "outputs": [],
   "source": [
    "(heart_X_train, heart_X_test, heart_y_train, heart_y_test) = train_test_split(X_trans, heart_y, test_size=0.2, random_state=2)\n",
    "print(heart_X_train.shape)\n",
    "print(heart_y_train.shape)"
   ]
  },
  {
   "cell_type": "code",
   "execution_count": null,
   "metadata": {},
   "outputs": [],
   "source": [
    "heart_X_train.head()\n"
   ]
  },
  {
   "cell_type": "code",
   "execution_count": null,
   "metadata": {},
   "outputs": [],
   "source": [
    "heart_y_train.head()"
   ]
  },
  {
   "cell_type": "code",
   "execution_count": null,
   "metadata": {
    "colab": {
     "base_uri": "https://localhost:8080/"
    },
    "id": "_pzuoX9Qmx3e",
    "outputId": "40bd7e9d-fad5-4b22-eb47-d3187ada0a18"
   },
   "outputs": [],
   "source": [
    "##build the model with DecisionTreeClassifier\n",
    "DTree_clf_heart = DecisionTreeClassifier(criterion='entropy', random_state=2)\n",
    "\n",
    "##Train with the training data\n",
    "DTree_clf_heart.fit(heart_X_train, heart_y_train)"
   ]
  },
  {
   "cell_type": "code",
   "execution_count": null,
   "metadata": {
    "id": "C6A5IqOaa7ii"
   },
   "outputs": [],
   "source": [
    "##Predict with test data\n",
    "heart_y_predict = DTree_clf_heart.predict(heart_X_test)"
   ]
  },
  {
   "cell_type": "code",
   "execution_count": null,
   "metadata": {
    "colab": {
     "base_uri": "https://localhost:8080/"
    },
    "id": "zYde9t8XbOr8",
    "outputId": "9515d94e-694f-4d07-953b-2c471cb9e671"
   },
   "outputs": [],
   "source": [
    "accuracy_score(heart_y_test, heart_y_predict)"
   ]
  },
  {
   "cell_type": "code",
   "execution_count": null,
   "metadata": {},
   "outputs": [],
   "source": [
    "DTree_clf_heart.get_depth()"
   ]
  },
  {
   "cell_type": "code",
   "execution_count": null,
   "metadata": {
    "id": "2_GxAXo6iXq7"
   },
   "outputs": [],
   "source": [
    "##User GridSearchCV to tune the parameters\n",
    "from sklearn.model_selection import GridSearchCV\n",
    "#min_samples_split: The minimum number of samples required to split an internal node\n",
    "#min_samples_leaf: The minimum number of samples required to be at a leaf node. A split point at any depth\n",
    "#will only be considered if it leaves at least min_samples_leaf training samples in each of the left and right\n",
    "#branches.\n",
    "param_grid = {\n",
    "    \"max_depth\": [3, 5, 7, 9],\n",
    "    \"min_samples_split\": [10, 20, 30],\n",
    "    \"min_samples_leaf\": [5, 10, 20],\n",
    "}\n",
    "DTree_clf = DecisionTreeClassifier(criterion='entropy')\n",
    "grid_cv = GridSearchCV(DTree_clf, param_grid, n_jobs=-1, cv=3, scoring=\"roc_auc\")\n",
    "_ = grid_cv.fit(heart_X_train, heart_y_train)"
   ]
  },
  {
   "cell_type": "code",
   "execution_count": null,
   "metadata": {
    "colab": {
     "base_uri": "https://localhost:8080/"
    },
    "id": "3O14zAOJj2n5",
    "outputId": "e10b72bd-3782-4a6a-b547-d319d06b7c22"
   },
   "outputs": [],
   "source": [
    "grid_cv.best_score_"
   ]
  },
  {
   "cell_type": "code",
   "execution_count": null,
   "metadata": {
    "colab": {
     "base_uri": "https://localhost:8080/"
    },
    "id": "zS2LJJYrj7Ga",
    "outputId": "518c68a2-ecfd-43bf-85c7-0c1c676ab5b3"
   },
   "outputs": [],
   "source": [
    "grid_cv.best_params_"
   ]
  },
  {
   "cell_type": "code",
   "execution_count": null,
   "metadata": {
    "colab": {
     "base_uri": "https://localhost:8080/"
    },
    "id": "lPnwfoxpoDa1",
    "outputId": "f361505b-cde3-4924-fbbc-1385b8b34007"
   },
   "outputs": [],
   "source": [
    "##Random Forest\n",
    "from sklearn.ensemble import RandomForestClassifier\n",
    "\n",
    "RForest_clf=RandomForestClassifier(bootstrap=True,random_state=2)\n",
    "#bootstrap: Whether bootstrap samples are used when building trees. If False, the whole dataset is used to build each tree.\n",
    "\n",
    "RForest_clf.fit(heart_X_train, heart_y_train)\n",
    "heart_y_predict = RForest_clf.predict(heart_X_test)\n",
    "accuracy_score(heart_y_test, heart_y_predict)"
   ]
  },
  {
   "cell_type": "code",
   "execution_count": null,
   "metadata": {
    "colab": {
     "base_uri": "https://localhost:8080/"
    },
    "id": "pJOcZ1UDeqNy",
    "outputId": "7c40fa33-7af0-4963-d7e9-d4dd38854493"
   },
   "outputs": [],
   "source": [
    "RForest_clf.get_params()"
   ]
  },
  {
   "cell_type": "code",
   "execution_count": null,
   "metadata": {
    "id": "k1VFFYAOmZzV"
   },
   "outputs": [],
   "source": [
    "##Tuning\n",
    "from sklearn.model_selection import GridSearchCV\n",
    "param_grid = {\n",
    "    'bootstrap': [True],\n",
    "    'max_depth': [5, 7, 9, 11],\n",
    "    'max_features': [\"sqrt\", \"log2\"],\n",
    "    'min_samples_leaf': [5, 10],\n",
    "    'min_samples_split': [10, 20, 30],\n",
    "    'n_estimators': [100, 200, 300, 500,1000]\n",
    "}\n"
   ]
  },
  {
   "cell_type": "code",
   "execution_count": null,
   "metadata": {
    "id": "c5Zt_nERd0Nb"
   },
   "outputs": [],
   "source": [
    "RForest_clf=RandomForestClassifier(random_state=2)\n",
    "grid_cv = GridSearchCV(RForest_clf, param_grid, n_jobs=-1, cv=3, scoring=\"roc_auc\")\n",
    "_ = grid_cv.fit(heart_X_train, heart_y_train)"
   ]
  },
  {
   "cell_type": "code",
   "execution_count": null,
   "metadata": {},
   "outputs": [],
   "source": [
    "grid_cv.best_score_"
   ]
  },
  {
   "cell_type": "code",
   "execution_count": null,
   "metadata": {},
   "outputs": [],
   "source": [
    "grid_cv.best_params_"
   ]
  },
  {
   "cell_type": "code",
   "execution_count": null,
   "metadata": {},
   "outputs": [],
   "source": []
  }
 ],
 "metadata": {
  "colab": {
   "collapsed_sections": [],
   "provenance": []
  },
  "kernelspec": {
   "display_name": "Python 3 (ipykernel)",
   "language": "python",
   "name": "python3"
  },
  "language_info": {
   "codemirror_mode": {
    "name": "ipython",
    "version": 3
   },
   "file_extension": ".py",
   "mimetype": "text/x-python",
   "name": "python",
   "nbconvert_exporter": "python",
   "pygments_lexer": "ipython3",
   "version": "3.9.6"
  }
 },
 "nbformat": 4,
 "nbformat_minor": 1
}
